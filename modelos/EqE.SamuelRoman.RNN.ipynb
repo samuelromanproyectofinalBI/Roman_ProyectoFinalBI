{
 "cells": [
  {
   "cell_type": "markdown",
   "metadata": {
    "id": "TQ3ouvOGYtgI"
   },
   "source": [
    "# Clasificación de texto"
   ]
  },
  {
   "cell_type": "markdown",
   "metadata": {
    "id": "J9Lj-D6tYtgJ"
   },
   "source": [
    "En el [post](https://sensioai.com/blog/037_charRNN) anterior aprendimos a cómo podemos entrenar una `red neuronal recurrente` para generar texto letra a letra, una tarea muy interesante dentro del mundo del `procesado de lenguaje natur` o `NLP` (*natural language processing*) por sus siglas en inglés. Aún así, posiblemente la tarea más interesante desde un punto de vista práctico y con más aplicaciones en la industria sea la de `clasificación de texto`. De la misma manera que podemos entrenar `redes neuronales` para [clasificación de imágenes](https://sensioai.com/blog/033_receta_entrenamiento), es posible entrenar modelos de `machine learning` capaces de asignar una etiqueta determinada a un trozo de texto. Podemos encontrar este tipo de aplicaciones en redes sociales, por ejemplo, para detectar automáticamente mensaje ofensivos o en opiniones de usuarios sobre artículos para medir su satisfacción. En este post vamos a ver cómo podemos entrenar una `red neuronal recurrente` para clasificar *reviews* de películas, una tarea también conocida por el nombre de `sentiment analysis`."
   ]
  },
  {
   "cell_type": "markdown",
   "metadata": {
    "id": "xRIKE6oUYtgJ"
   },
   "source": [
    " ## El *dataset*"
   ]
  },
  {
   "cell_type": "markdown",
   "metadata": {
    "id": "10vBW7ZvYtgK"
   },
   "source": [
    "En el post anterior descargamos el libro *Don Quijote de la Mancha* en formato *txt*, luego lo cargamos en `Python` para proceder al proceso de `tokenización`. Si bien implementamos nuestra propia lógica de procesado de texto, a la práctica es más conveniente utilizar herramientas de terceros bien testeadas y optimizadas. Entre las diferentes librerías que existen de `NLP`, nosotros utilizaremos [torchtext](https://pytorch.org/text/) ya que está bien integrada con el ecosistema de `Pytorch`."
   ]
  },
  {
   "cell_type": "code",
   "execution_count": 6,
   "metadata": {
    "ExecuteTime": {
     "end_time": "2020-09-01T16:39:11.207060Z",
     "start_time": "2020-09-01T16:39:10.641059Z"
    },
    "id": "O1YfVc6kYtgK"
   },
   "outputs": [],
   "source": [
    "import torch\n",
    "import torchtext"
   ]
  },
  {
   "cell_type": "markdown",
   "metadata": {
    "id": "RYGlhAteYtgL"
   },
   "source": [
    "En `torchtext` tenemos disponible multitud de datasets que podemos utilizar, los cuales son ideales cuando estamos aprendiendo a trabajar con `redes neuronales` para tareas de `NLP`. En este caso descargaremos el dataset `IMDB` que contiene opiniones sobre películas. Nuestro objetivo será, dada una de estas *reviews* asignarle una etiqueta binaria (opinión positiva o negativa)."
   ]
  },
  {
   "cell_type": "code",
   "execution_count": 7,
   "metadata": {
    "id": "k-2TSPjYY8_W"
   },
   "outputs": [],
   "source": [
    "from torchtext import data"
   ]
  },
  {
   "cell_type": "code",
   "execution_count": 10,
   "metadata": {
    "ExecuteTime": {
     "end_time": "2020-09-01T16:40:09.615532Z",
     "start_time": "2020-09-01T16:39:11.208061Z"
    },
    "id": "119_ZZgLYtgM"
   },
   "outputs": [
    {
     "name": "stdout",
     "output_type": "stream",
     "text": [
      "downloading aclImdb_v1.tar.gz\n"
     ]
    },
    {
     "name": "stderr",
     "output_type": "stream",
     "text": [
      "aclImdb_v1.tar.gz: 100%|██████████████████████████████████████████████████████████████████████████████████████████████████████████████████████████████████████████████████████| 84.1M/84.1M [00:07<00:00, 11.3MB/s]\n"
     ]
    }
   ],
   "source": [
    "TEXT = torchtext.data.Field(tokenize = 'spacy', tokenizer_language='en_core_web_sm')\n",
    "LABEL = torchtext.data.LabelField(dtype = torch.long)\n",
    "\n",
    "train_data, test_data = torchtext.datasets.IMDB.splits(TEXT, LABEL)"
   ]
  },
  {
   "cell_type": "markdown",
   "metadata": {
    "id": "ckP1RWNdYtgO"
   },
   "source": [
    "En este caso en concreto, disponemos de 25000 muestras tanto para el entrenamiento como evaluación de nuestros modelos."
   ]
  },
  {
   "cell_type": "code",
   "execution_count": 12,
   "metadata": {
    "ExecuteTime": {
     "end_time": "2020-09-01T16:40:09.632530Z",
     "start_time": "2020-09-01T16:40:09.616535Z"
    },
    "id": "DDCMGfnhYtgP",
    "outputId": "d816badb-d035-4738-f69f-6630a0d0d577"
   },
   "outputs": [
    {
     "data": {
      "text/plain": [
       "(25000, 25000)"
      ]
     },
     "execution_count": 12,
     "metadata": {},
     "output_type": "execute_result"
    }
   ],
   "source": [
    "len(train_data), len(test_data)"
   ]
  },
  {
   "cell_type": "markdown",
   "metadata": {
    "id": "_OGR_R_rYtgP"
   },
   "source": [
    "De la siguiente manera podemos ver un ejemplo de muestra de nuestro dataset, que está compuesto por el texto y la valoración."
   ]
  },
  {
   "cell_type": "code",
   "execution_count": 15,
   "metadata": {
    "ExecuteTime": {
     "end_time": "2020-09-01T16:40:09.647529Z",
     "start_time": "2020-09-01T16:40:09.633530Z"
    },
    "id": "O_lLJnt-YtgQ",
    "outputId": "27864a61-4c9f-40ac-ba7b-658d9ee57a7b"
   },
   "outputs": [
    {
     "name": "stdout",
     "output_type": "stream",
     "text": [
      "{'text': ['With', 'lots', 'of', 'sunshine', ',', 'gauzy', 'light', 'and', 'shadow', 'filtering', 'through', 'windows', 'and', 'into', 'rooms', ',', 'tracking', 'shots', 'moving', 'through', 'crowds', 'with', 'hand', '-', 'held', 'camera', ',', 'quick', '-', 'paced', 'editing', 'and', 'extreme', 'close', '-', 'ups', 'here', 'and', 'there', ',', 'the', 'photography', 'is', 'the', 'thing', 'in', 'this', 'interesting', ',', 'artistically', 'done', 'film.<br', '/><br', '/>The', 'plot', 'of', 'this', 'film', 'starts', 'out', 'as', 'a', 'bit', 'of', 'fluff', 'about', 'a', 'beauty', 'contest', '.', 'The', 'film', 'begins', 'on', 'a', 'warm', 'Sunday', 'at', 'the', 'local', 'swimming', 'pool', ',', 'where', 'we', 'meet', 'the', 'lovely', 'Lucienne', 'aka', 'Lulu', '(', 'played', 'by', 'Louise', 'Brooks', ')', '-', 'a', 'bit', 'of', 'a', 'show', '-', 'off', 'in', 'front', 'of', 'the', 'gawking', 'men', 'by', 'poolside', ',', 'she', 'soon', 'decides', 'to', 'enter', 'herself', 'to', 'represent', 'France', 'in', 'the', 'Miss', 'Europe', 'beauty', 'contest', ',', 'much', 'to', 'the', 'chagrin', 'of', 'her', 'very', 'jealous', ',', 'stick', '-', 'in', '-', 'the', '-', 'mud', 'fiancé', '(', 'a', 'pretty', 'annoying', 'fellow', ',', 'really', ')', '.', 'Strutting', 'down', 'the', 'runway', 'the', 'ten', 'contestants', 'display', 'themselves', 'in', 'swimsuits', ',', 'while', 'the', 'winner', 'is', 'chosen', 'as', 'the', 'contestant', 'who', 'receives', 'the', 'longest', 'applause', '(', 'I', 'was', 'wondering', ',', 'could', \"n't\", 'the', 'girls', 'just', 'walk', 'slower', 'to', 'prolong', 'their', 'length', 'of', 'time', '-', 'and', 'thus', 'applause', '-', 'on', 'the', 'catwalk', '?', '!', ')', '.', 'Lulu', 'is', 'soon', 'being', 'chased', 'by', 'a', 'Prince', 'and', 'a', 'Maharaja', ',', 'but', 'her', 'hot', '-', 'headed', 'beau', 'does', \"n't\", 'like', 'the', 'attentions', 'paid', 'to', 'her', 'by', 'other', 'men', 'or', 'her', 'adoring', 'public', ',', 'for', 'that', 'matter', '(', 'I', 'guess', 'he', 'just', 'wants', 'her', 'in', 'his', 'house', ',', 'cooking', 'his', 'meals', ',', 'and', 'staying', 'out', 'of', 'sight', ',', 'eh?!).<br', '/><br', '/>Louise', 'Brooks', 'is', 'beautiful', 'and', 'charming', ',', 'her', 'presence', 'helps', 'enhance', 'this', 'film', ',', 'but', 'it', \"'s\", 'really', 'the', 'way', 'it', 'is', 'photographed', 'that', 'held', 'my', 'interest', 'the', 'most', '.', 'A', 'bit', 'distracting', 'is', 'the', 'odd', 'dubbed', 'sound', ',', 'which', 'is', 'a', 'bit', 'off', '.', 'The', 'print', 'on', 'this', 'version', 'looked', 'very', 'clear', 'and', 'full', 'of', 'nice', 'contrast', 'though', '.', 'Watching', 'this', 'I', 'just', 'tried', 'to', 'overlook', 'the', 'sound', 'problems', 'and', 'watch', 'the', 'film', 'visually', ',', 'and', 'I', 'found', 'the', 'movie', 'to', 'be', 'excellent', ',', 'well', 'worth', 'seeing', '.'], 'label': 'pos'}\n"
     ]
    }
   ],
   "source": [
    "print(vars(train_data.examples[0]))"
   ]
  },
  {
   "cell_type": "markdown",
   "metadata": {
    "id": "fxYEu8ZkYtgQ"
   },
   "source": [
    "### Tokenización"
   ]
  },
  {
   "cell_type": "markdown",
   "metadata": {
    "id": "zGhAefSzYtgQ"
   },
   "source": [
    "Además de proveernos con varios datasets, `torchtext` también nos facilita mucho la vida a la hora de llevar a cabo el proceso de `tokenización`. En este caso vamos a construir un vocabulario que contendrá un número determinado de palabras (ya que si aqueremos incluirlas los requisitos computacionales se dispararían). Para ello el tokenizador calculará la frecuencia de cada palabra en el texto y se quedará con la cantidad que especifiquemos."
   ]
  },
  {
   "cell_type": "code",
   "execution_count": 16,
   "metadata": {
    "ExecuteTime": {
     "end_time": "2020-09-01T16:40:10.841436Z",
     "start_time": "2020-09-01T16:40:09.648529Z"
    },
    "id": "xi029u92YtgR",
    "outputId": "d548063b-d726-4ee0-ab3d-8e039294547b"
   },
   "outputs": [
    {
     "data": {
      "text/plain": [
       "(10002, 2)"
      ]
     },
     "execution_count": 16,
     "metadata": {},
     "output_type": "execute_result"
    }
   ],
   "source": [
    "MAX_VOCAB_SIZE = 10000\n",
    "\n",
    "TEXT.build_vocab(train_data, max_size = MAX_VOCAB_SIZE)\n",
    "LABEL.build_vocab(train_data)\n",
    "\n",
    "len(TEXT.vocab), len(LABEL.vocab)"
   ]
  },
  {
   "cell_type": "markdown",
   "metadata": {
    "id": "0HfIx9UeYtgR"
   },
   "source": [
    "Como pudes ver tenemos un vocabulario con la longitud determinada más dos, estos dos *tokens* extra corresponden a los *tokens* `<unk>`, que se le asignarán a las palabras desconocidas y las menos frecuentes que no hayan pasado el primer filtro, y el *token* `<pad>`, que se usará para que todas las frases en un *batch* tengan la misma longitud (necesitamos tensores recutangulares para entrenar nuestra red)."
   ]
  },
  {
   "cell_type": "code",
   "execution_count": 17,
   "metadata": {
    "ExecuteTime": {
     "end_time": "2020-09-01T16:40:10.883957Z",
     "start_time": "2020-09-01T16:40:10.843442Z"
    },
    "id": "xUiUzp-sYtgS",
    "outputId": "d7df2018-3bcd-45e4-84da-eef348a671cd"
   },
   "outputs": [
    {
     "data": {
      "text/plain": [
       "[('the', 289838),\n",
       " (',', 275296),\n",
       " ('.', 236709),\n",
       " ('and', 156484),\n",
       " ('a', 156282),\n",
       " ('of', 144056),\n",
       " ('to', 133886),\n",
       " ('is', 109095),\n",
       " ('in', 87676),\n",
       " ('I', 77546)]"
      ]
     },
     "execution_count": 17,
     "metadata": {},
     "output_type": "execute_result"
    }
   ],
   "source": [
    "TEXT.vocab.freqs.most_common(10)"
   ]
  },
  {
   "cell_type": "code",
   "execution_count": 18,
   "metadata": {
    "ExecuteTime": {
     "end_time": "2020-09-01T16:40:10.899961Z",
     "start_time": "2020-09-01T16:40:10.885959Z"
    },
    "id": "T-RmiPzzYtgS",
    "outputId": "886ebb56-9123-41f6-b81c-0e2d8337e014"
   },
   "outputs": [
    {
     "data": {
      "text/plain": [
       "['<unk>', '<pad>', 'the', ',', '.', 'and', 'a', 'of', 'to', 'is']"
      ]
     },
     "execution_count": 18,
     "metadata": {},
     "output_type": "execute_result"
    }
   ],
   "source": [
    "TEXT.vocab.itos[:10]"
   ]
  },
  {
   "cell_type": "code",
   "execution_count": 19,
   "metadata": {
    "ExecuteTime": {
     "end_time": "2020-09-01T16:40:10.915962Z",
     "start_time": "2020-09-01T16:40:10.900958Z"
    },
    "id": "G6ZkR5gdYtgS",
    "outputId": "b3d93f6a-6998-47f3-dcdd-b7a3feeec7a4"
   },
   "outputs": [
    {
     "data": {
      "text/plain": [
       "defaultdict(None, {'neg': 0, 'pos': 1})"
      ]
     },
     "execution_count": 19,
     "metadata": {},
     "output_type": "execute_result"
    }
   ],
   "source": [
    "LABEL.vocab.stoi"
   ]
  },
  {
   "cell_type": "markdown",
   "metadata": {
    "id": "qL8WhZJHYtgT"
   },
   "source": [
    "El último paso para tener nuestros datos listos para entrenar una red neuronal es construir el `DataLoader` encargado de alimentar nuestra red con *batches* de frases de manera eficiente. Para ello utilizamos la clase `torchtext.data.BucketIterator`, que además juntará frases de similar longitud minimazndo el *padding* necesario."
   ]
  },
  {
   "cell_type": "code",
   "execution_count": 20,
   "metadata": {
    "ExecuteTime": {
     "end_time": "2020-09-01T16:40:10.947957Z",
     "start_time": "2020-09-01T16:40:10.916958Z"
    },
    "id": "m61nqH_NYtgT",
    "outputId": "41648164-4c39-4434-ffa1-02d7e24a652b"
   },
   "outputs": [],
   "source": [
    "device = \"cuda\" if torch.cuda.is_available() else \"cpu\"\n",
    "\n",
    "dataloader = {\n",
    "    'train': torchtext.data.BucketIterator(train_data, batch_size=64, shuffle=True, sort_within_batch=True, device=device),\n",
    "    'test': torchtext.data.BucketIterator(test_data, batch_size=64, device=device)\n",
    "}"
   ]
  },
  {
   "cell_type": "markdown",
   "metadata": {
    "id": "7rT4jNmsYtgT"
   },
   "source": [
    "## El modelo"
   ]
  },
  {
   "cell_type": "markdown",
   "metadata": {
    "id": "BjiNGrooYtgU"
   },
   "source": [
    "Para poder clasificar texto utilizaremos una [red recurrente](https://sensioai.com/blog/034_rnn_intro) de tipo `many-to-one`, la cual recibirá el texto palabra por palabra. Usaremos el último estado oculto (el cual contendrá información de toda la frase) para generar nuestra predicción final. Cada palabra estará representada por un vector, el cual será aprendido por la red en la capa `embedding` (puedes aprender más sobre esta capa en nuestro [post](https://sensioai.com/blog/037_charRNN) anterior)."
   ]
  },
  {
   "cell_type": "code",
   "execution_count": 21,
   "metadata": {
    "ExecuteTime": {
     "end_time": "2020-09-01T16:40:10.963957Z",
     "start_time": "2020-09-01T16:40:10.948957Z"
    },
    "id": "sK3waq3lYtgU"
   },
   "outputs": [],
   "source": [
    "class RNN(torch.nn.Module):\n",
    "    def __init__(self, input_dim, embedding_dim=128, hidden_dim=128, output_dim=2, num_layers=2, dropout=0.2, bidirectional=False):\n",
    "        super().__init__()\n",
    "        self.embedding = torch.nn.Embedding(input_dim, embedding_dim)\n",
    "        self.rnn = torch.nn.GRU(\n",
    "            input_size=embedding_dim,\n",
    "            hidden_size=hidden_dim,\n",
    "            num_layers=num_layers,\n",
    "            dropout=dropout if num_layers > 1 else 0,\n",
    "            bidirectional=bidirectional\n",
    "        )\n",
    "        self.fc = torch.nn.Linear(2*hidden_dim if bidirectional else hidden_dim, output_dim)\n",
    "\n",
    "    def forward(self, text):\n",
    "        #text = [sent len, batch size]\n",
    "        embedded = self.embedding(text)\n",
    "        #embedded = [sent len, batch size, emb dim]\n",
    "        output, hidden = self.rnn(embedded)\n",
    "        #output = [sent len, batch size, hid dim]\n",
    "        y = self.fc(output[-1,:,:].squeeze(0))\n",
    "        return y"
   ]
  },
  {
   "cell_type": "markdown",
   "metadata": {
    "id": "ZBzOEkEXYtgU"
   },
   "source": [
    "> 💡 A diferencia de los pots anteriores, ahora la dimensión *batch* NO es la primera. Este es el comportamiento por defecto de las capas recurrentes en `Pytorch`. Puedes modificar esto añadiendo la opción `batch_first=True` en la capa recurrente (y asegúrate que tu dataloader utiliza también la primera dimensión para el batch. En `torchtext` puedes indicarlo con el parámetro `batch_first=True` a la hora de definir el `FIELD` en cuestión)."
   ]
  },
  {
   "cell_type": "markdown",
   "metadata": {
    "id": "8jd_HqO-YtgU"
   },
   "source": [
    "Como siempre, probamos que nuestra red esté bien definida y las dimensiones encajen. A la entrada, esperamos tensores con dimensiones `longitud secuencia x batch`. Puedes verlo si sacamos unas muestras de nuestro dataloader."
   ]
  },
  {
   "cell_type": "code",
   "execution_count": 22,
   "metadata": {
    "ExecuteTime": {
     "end_time": "2020-09-01T16:40:12.126961Z",
     "start_time": "2020-09-01T16:40:10.964958Z"
    },
    "id": "OpMkCiZFYtgU",
    "outputId": "5115ea25-1a1a-4994-c734-f26800d62d1e"
   },
   "outputs": [
    {
     "data": {
      "text/plain": [
       "torch.Size([206, 64])"
      ]
     },
     "execution_count": 22,
     "metadata": {},
     "output_type": "execute_result"
    }
   ],
   "source": [
    "batch = next(iter(dataloader['train']))\n",
    "\n",
    "batch.text.shape"
   ]
  },
  {
   "cell_type": "markdown",
   "metadata": {
    "id": "SIcqxFRpYtgV"
   },
   "source": [
    "Cada palabra estrá representada por un índice, que luego el `embedding` usará para extraer el vector determinado que representa la palabra. A la salida, nuestro modelo nos dará dos valores. Si el primer valor es mayor que el segundo, asignaremos la clase `0` (opinión negativa) y viceversa."
   ]
  },
  {
   "cell_type": "code",
   "execution_count": 23,
   "metadata": {
    "ExecuteTime": {
     "end_time": "2020-09-01T16:40:12.254958Z",
     "start_time": "2020-09-01T16:40:12.127961Z"
    },
    "id": "dOM-CJhhYtgV",
    "outputId": "add8e904-cff1-4a8d-db59-becde47ce9f7"
   },
   "outputs": [
    {
     "data": {
      "text/plain": [
       "torch.Size([64, 2])"
      ]
     },
     "execution_count": 23,
     "metadata": {},
     "output_type": "execute_result"
    }
   ],
   "source": [
    "model = RNN(input_dim=len(TEXT.vocab))\n",
    "outputs = model(torch.randint(0, len(TEXT.vocab), (100, 64)))\n",
    "outputs.shape"
   ]
  },
  {
   "cell_type": "markdown",
   "metadata": {
    "id": "5ESmDWGoYtgV"
   },
   "source": [
    "## Entrenamiento"
   ]
  },
  {
   "cell_type": "markdown",
   "metadata": {
    "id": "jQxPkLV5YtgV"
   },
   "source": [
    "Para entrenar nuestra red usamos el bucle estándar que ya usamos en posts anteriores."
   ]
  },
  {
   "cell_type": "code",
   "execution_count": 24,
   "metadata": {
    "ExecuteTime": {
     "end_time": "2020-09-01T16:40:12.270961Z",
     "start_time": "2020-09-01T16:40:12.256959Z"
    },
    "code_folding": [],
    "id": "HhpiKd6cYtgV"
   },
   "outputs": [],
   "source": [
    "from tqdm import tqdm\n",
    "import numpy as np\n",
    "\n",
    "def fit(model, dataloader, epochs=5):\n",
    "    model.to(device)\n",
    "    optimizer = torch.optim.Adam(model.parameters(), lr=1e-3)\n",
    "    criterion = torch.nn.CrossEntropyLoss()\n",
    "    for epoch in range(1, epochs+1):\n",
    "        model.train()\n",
    "        train_loss, train_acc = [], []\n",
    "        bar = tqdm(dataloader['train'])\n",
    "        for batch in bar:\n",
    "            X, y = batch.text, batch.label\n",
    "            X, y = X.to(device), y.to(device)\n",
    "            optimizer.zero_grad()\n",
    "            y_hat = model(X)\n",
    "            loss = criterion(y_hat, y)\n",
    "            loss.backward()\n",
    "            optimizer.step()\n",
    "            train_loss.append(loss.item())\n",
    "            acc = (y == torch.argmax(y_hat, axis=1)).sum().item() / len(y)\n",
    "            train_acc.append(acc)\n",
    "            bar.set_description(f\"loss {np.mean(train_loss):.5f} acc {np.mean(train_acc):.5f}\")\n",
    "        bar = tqdm(dataloader['test'])\n",
    "        val_loss, val_acc = [], []\n",
    "        model.eval()\n",
    "        with torch.no_grad():\n",
    "            for batch in bar:\n",
    "                X, y = batch.text, batch.label\n",
    "                X, y = X.to(device), y.to(device)\n",
    "                y_hat = model(X)\n",
    "                loss = criterion(y_hat, y)\n",
    "                val_loss.append(loss.item())\n",
    "                acc = (y == torch.argmax(y_hat, axis=1)).sum().item() / len(y)\n",
    "                val_acc.append(acc)\n",
    "                bar.set_description(f\"val_loss {np.mean(val_loss):.5f} val_acc {np.mean(val_acc):.5f}\")\n",
    "        print(f\"Epoch {epoch}/{epochs} loss {np.mean(train_loss):.5f} val_loss {np.mean(val_loss):.5f} acc {np.mean(train_acc):.5f} val_acc {np.mean(val_acc):.5f}\")"
   ]
  },
  {
   "cell_type": "code",
   "execution_count": 25,
   "metadata": {
    "ExecuteTime": {
     "end_time": "2020-09-01T16:36:22.941249Z",
     "start_time": "2020-09-01T16:34:05.448274Z"
    },
    "id": "17-WS4P3YtgW",
    "outputId": "e821b2ec-c495-46a2-c8cd-5c70d4ef3f24"
   },
   "outputs": [
    {
     "name": "stderr",
     "output_type": "stream",
     "text": [
      "loss 0.64077 acc 0.62255: 100%|██████████████████████████████████████████████████████████████████████████████████████████████████████████████████████████████████████████████████| 391/391 [04:06<00:00,  1.59it/s]\n",
      "val_loss 0.71975 val_acc 0.50635: 100%|██████████████████████████████████████████████████████████████████████████████████████████████████████████████████████████████████████████| 391/391 [01:46<00:00,  3.65it/s]\n"
     ]
    },
    {
     "name": "stdout",
     "output_type": "stream",
     "text": [
      "Epoch 1/5 loss 0.64077 val_loss 0.71975 acc 0.62255 val_acc 0.50635\n"
     ]
    },
    {
     "name": "stderr",
     "output_type": "stream",
     "text": [
      "loss 0.37408 acc 0.83264: 100%|██████████████████████████████████████████████████████████████████████████████████████████████████████████████████████████████████████████████████| 391/391 [01:56<00:00,  3.36it/s]\n",
      "val_loss 0.36805 val_acc 0.84166: 100%|██████████████████████████████████████████████████████████████████████████████████████████████████████████████████████████████████████████| 391/391 [01:36<00:00,  4.06it/s]\n"
     ]
    },
    {
     "name": "stdout",
     "output_type": "stream",
     "text": [
      "Epoch 2/5 loss 0.37408 val_loss 0.36805 acc 0.83264 val_acc 0.84166\n"
     ]
    },
    {
     "name": "stderr",
     "output_type": "stream",
     "text": [
      "loss 0.23543 acc 0.90591: 100%|██████████████████████████████████████████████████████████████████████████████████████████████████████████████████████████████████████████████████| 391/391 [01:49<00:00,  3.56it/s]\n",
      "val_loss 0.27339 val_acc 0.88529: 100%|██████████████████████████████████████████████████████████████████████████████████████████████████████████████████████████████████████████| 391/391 [01:34<00:00,  4.15it/s]\n"
     ]
    },
    {
     "name": "stdout",
     "output_type": "stream",
     "text": [
      "Epoch 3/5 loss 0.23543 val_loss 0.27339 acc 0.90591 val_acc 0.88529\n"
     ]
    },
    {
     "name": "stderr",
     "output_type": "stream",
     "text": [
      "loss 0.17732 acc 0.93146: 100%|██████████████████████████████████████████████████████████████████████████████████████████████████████████████████████████████████████████████████| 391/391 [01:48<00:00,  3.61it/s]\n",
      "val_loss 0.27165 val_acc 0.88693: 100%|██████████████████████████████████████████████████████████████████████████████████████████████████████████████████████████████████████████| 391/391 [01:40<00:00,  3.90it/s]\n"
     ]
    },
    {
     "name": "stdout",
     "output_type": "stream",
     "text": [
      "Epoch 4/5 loss 0.17732 val_loss 0.27165 acc 0.93146 val_acc 0.88693\n"
     ]
    },
    {
     "name": "stderr",
     "output_type": "stream",
     "text": [
      "loss 0.12471 acc 0.95550: 100%|██████████████████████████████████████████████████████████████████████████████████████████████████████████████████████████████████████████████████| 391/391 [01:52<00:00,  3.49it/s]\n",
      "val_loss 0.27691 val_acc 0.88841: 100%|██████████████████████████████████████████████████████████████████████████████████████████████████████████████████████████████████████████| 391/391 [01:29<00:00,  4.35it/s]"
     ]
    },
    {
     "name": "stdout",
     "output_type": "stream",
     "text": [
      "Epoch 5/5 loss 0.12471 val_loss 0.27691 acc 0.95550 val_acc 0.88841\n"
     ]
    },
    {
     "name": "stderr",
     "output_type": "stream",
     "text": [
      "\n"
     ]
    }
   ],
   "source": [
    "fit(model, dataloader)"
   ]
  },
  {
   "cell_type": "markdown",
   "metadata": {
    "id": "AqhwpZmVYtgW"
   },
   "source": [
    "## Generando predicciones"
   ]
  },
  {
   "cell_type": "markdown",
   "metadata": {
    "id": "C_BkyjfHYtgW"
   },
   "source": [
    "Ahora ya podemos utilizar nuestro modelo para generar valoraciones de manera automática dada una opinión."
   ]
  },
  {
   "cell_type": "code",
   "execution_count": 27,
   "metadata": {
    "ExecuteTime": {
     "end_time": "2020-09-01T16:36:23.366252Z",
     "start_time": "2020-09-01T16:36:22.942250Z"
    },
    "id": "idC3rLE0YtgW"
   },
   "outputs": [],
   "source": [
    "import spacy\n",
    "nlp = spacy.load('en_core_web_sm')\n",
    "\n",
    "def predict(model, X):\n",
    "    model.eval()\n",
    "    with torch.no_grad():\n",
    "        X = torch.tensor(X).to(device)\n",
    "        pred = model(X)\n",
    "        return pred"
   ]
  },
  {
   "cell_type": "code",
   "execution_count": 28,
   "metadata": {
    "ExecuteTime": {
     "end_time": "2020-09-01T16:36:23.382248Z",
     "start_time": "2020-09-01T16:36:23.367255Z"
    },
    "id": "NQQt8Z83YtgW",
    "outputId": "79a06c40-84e3-4882-f13b-60235f7ff82e"
   },
   "outputs": [
    {
     "name": "stderr",
     "output_type": "stream",
     "text": [
      "/tmp/ipykernel_25321/3653947751.py:7: UserWarning: To copy construct from a tensor, it is recommended to use sourceTensor.clone().detach() or sourceTensor.clone().detach().requires_grad_(True), rather than torch.tensor(sourceTensor).\n",
      "  X = torch.tensor(X).to(device)\n"
     ]
    },
    {
     "data": {
      "text/plain": [
       "tensor([0, 1, 1, 0])"
      ]
     },
     "execution_count": 28,
     "metadata": {},
     "output_type": "execute_result"
    }
   ],
   "source": [
    "sentences = [\"this film is terrible\", \"this film is great\", \"this film is good\", \"a waste of time\"]\n",
    "tokenized = [[tok.text for tok in nlp.tokenizer(sentence)] for sentence in sentences]\n",
    "indexed = [[TEXT.vocab.stoi[_t] for _t in t] for t in tokenized]\n",
    "tensor = torch.tensor(indexed).permute(1,0)\n",
    "predictions = torch.argmax(predict(model, tensor), axis=1)\n",
    "predictions"
   ]
  },
  {
   "cell_type": "markdown",
   "metadata": {
    "id": "K68StEoXYtgX"
   },
   "source": [
    "En este caso solo tenemos dos posibles clases, pero es fácil intuir que de ser capaces de construir un dataset con muchas más clases que describan con mayor precisión el \"sentimiento\" en un texto podríamos extraer muchísima información muy valiosa para, sobre todo, empresas que venden productos online más allá de las típicas estrellas o puntuaciones que, pese a dar información valiosa, no aportan ningún tipo de información accionable."
   ]
  },
  {
   "cell_type": "markdown",
   "metadata": {
    "id": "kJkhGY5HYtgX"
   },
   "source": [
    "## Redes Recurrentes Bidireccionales"
   ]
  },
  {
   "cell_type": "markdown",
   "metadata": {
    "id": "yKY_CBRuYtgX"
   },
   "source": [
    "Las redes recurrentes bidireccionales nos van a permitir, por norma general, obtener mejores resultados cuando trabajemos con datos secuenciales en los que \"podamos mirar al futuro\". En aplicaciones tales como la generación de texto o la predicción de series temporales, esto no lo podíamos hacer ya que el objetivo de la tarea es precisamente predecir valores futuros (y utilizar estos valores durante el entrenamiento no tendría sentido). Sin embargo, para la tarea de clasificación de texto, sí que podemos hacerlo.\n",
    "\n",
    "Puedes conocer más sobre este tipo de redes, así como otras mejoras, en este [post](https://sensioai.com/blog/036_rnn_mejoras)."
   ]
  },
  {
   "cell_type": "code",
   "execution_count": 29,
   "metadata": {
    "ExecuteTime": {
     "start_time": "2020-09-01T16:39:19.400Z"
    },
    "id": "LLDA9D72YtgX",
    "outputId": "f7dbbc71-272e-45eb-a6c1-952f21df1faa"
   },
   "outputs": [
    {
     "name": "stderr",
     "output_type": "stream",
     "text": [
      "loss 0.59018 acc 0.66331: 100%|██████████████████████████████████████████████████████████████████████████████████████████████████████████████████████████████████████████████████| 391/391 [06:40<00:00,  1.02s/it]\n",
      "val_loss 0.41556 val_acc 0.82578: 100%|██████████████████████████████████████████████████████████████████████████████████████████████████████████████████████████████████████████| 391/391 [02:59<00:00,  2.18it/s]\n"
     ]
    },
    {
     "name": "stdout",
     "output_type": "stream",
     "text": [
      "Epoch 1/5 loss 0.59018 val_loss 0.41556 acc 0.66331 val_acc 0.82578\n"
     ]
    },
    {
     "name": "stderr",
     "output_type": "stream",
     "text": [
      "loss 0.30681 acc 0.86973: 100%|██████████████████████████████████████████████████████████████████████████████████████████████████████████████████████████████████████████████████| 391/391 [03:30<00:00,  1.85it/s]\n",
      "val_loss 0.32252 val_acc 0.86069: 100%|██████████████████████████████████████████████████████████████████████████████████████████████████████████████████████████████████████████| 391/391 [03:05<00:00,  2.11it/s]\n"
     ]
    },
    {
     "name": "stdout",
     "output_type": "stream",
     "text": [
      "Epoch 2/5 loss 0.30681 val_loss 0.32252 acc 0.86973 val_acc 0.86069\n"
     ]
    },
    {
     "name": "stderr",
     "output_type": "stream",
     "text": [
      "loss 0.20446 acc 0.92108: 100%|██████████████████████████████████████████████████████████████████████████████████████████████████████████████████████████████████████████████████| 391/391 [03:35<00:00,  1.81it/s]\n",
      "val_loss 0.28383 val_acc 0.88399: 100%|██████████████████████████████████████████████████████████████████████████████████████████████████████████████████████████████████████████| 391/391 [03:04<00:00,  2.11it/s]\n"
     ]
    },
    {
     "name": "stdout",
     "output_type": "stream",
     "text": [
      "Epoch 3/5 loss 0.20446 val_loss 0.28383 acc 0.92108 val_acc 0.88399\n"
     ]
    },
    {
     "name": "stderr",
     "output_type": "stream",
     "text": [
      "loss 0.14418 acc 0.94749: 100%|██████████████████████████████████████████████████████████████████████████████████████████████████████████████████████████████████████████████████| 391/391 [03:51<00:00,  1.69it/s]\n",
      "val_loss 0.27629 val_acc 0.88825: 100%|██████████████████████████████████████████████████████████████████████████████████████████████████████████████████████████████████████████| 391/391 [03:24<00:00,  1.91it/s]\n"
     ]
    },
    {
     "name": "stdout",
     "output_type": "stream",
     "text": [
      "Epoch 4/5 loss 0.14418 val_loss 0.27629 acc 0.94749 val_acc 0.88825\n"
     ]
    },
    {
     "name": "stderr",
     "output_type": "stream",
     "text": [
      "loss 0.08810 acc 0.97004: 100%|██████████████████████████████████████████████████████████████████████████████████████████████████████████████████████████████████████████████████| 391/391 [03:43<00:00,  1.75it/s]\n",
      "val_loss 0.35254 val_acc 0.87840: 100%|██████████████████████████████████████████████████████████████████████████████████████████████████████████████████████████████████████████| 391/391 [03:18<00:00,  1.97it/s]"
     ]
    },
    {
     "name": "stdout",
     "output_type": "stream",
     "text": [
      "Epoch 5/5 loss 0.08810 val_loss 0.35254 acc 0.97004 val_acc 0.87840\n"
     ]
    },
    {
     "name": "stderr",
     "output_type": "stream",
     "text": [
      "\n"
     ]
    }
   ],
   "source": [
    "model = RNN(input_dim=len(TEXT.vocab), bidirectional=True)\n",
    "fit(model, dataloader)"
   ]
  },
  {
   "cell_type": "markdown",
   "metadata": {
    "id": "Lh9ZGSmUYtgX"
   },
   "source": [
    "## Resumen"
   ]
  },
  {
   "cell_type": "markdown",
   "metadata": {
    "id": "m7mjrsJcYtgX"
   },
   "source": [
    "En este post hemos aprendido a utilizar `redes neuronales recurrentes` para la tarea de clasificación de texto. Esta tarea es muy útil en la industria, sobre todo para aquellos negocios que venden productos o servicios cuyos usuarios pueden valorar directamente de manera online de forma masiva. Tener un sistema automatizado que \"lea\" todas las opiniones y las clasifique en clases con significado, puede aportar mucha información valiosa a una empresa sobre la cual puede llevar a cabo acciones de mejora de manera rápida. Como hemos visto, el uso de la librería `torchtext` nos facilita mucho la vida a la hora de procesar el texto, y gracias a su integración con `Pytorch` podremos entrenar modelos de manera rápida y sencilla. Para esta tarea en concreto, también hemos visto que el uso de `redes recurrentes bidireccionales` nos puede dar un extra de precisión."
   ]
  }
 ],
 "metadata": {
  "colab": {
   "provenance": []
  },
  "kernelspec": {
   "display_name": "Python 3 (ipykernel)",
   "language": "python",
   "name": "python3"
  },
  "language_info": {
   "codemirror_mode": {
    "name": "ipython",
    "version": 3
   },
   "file_extension": ".py",
   "mimetype": "text/x-python",
   "name": "python",
   "nbconvert_exporter": "python",
   "pygments_lexer": "ipython3",
   "version": "3.10.9"
  },
  "toc": {
   "base_numbering": 1,
   "nav_menu": {},
   "number_sections": true,
   "sideBar": true,
   "skip_h1_title": false,
   "title_cell": "Table of Contents",
   "title_sidebar": "Contents",
   "toc_cell": false,
   "toc_position": {
    "height": "calc(100% - 180px)",
    "left": "10px",
    "top": "150px",
    "width": "233.594px"
   },
   "toc_section_display": true,
   "toc_window_display": false
  }
 },
 "nbformat": 4,
 "nbformat_minor": 1
}
